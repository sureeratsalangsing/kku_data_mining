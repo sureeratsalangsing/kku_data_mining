{
  "nbformat": 4,
  "nbformat_minor": 0,
  "metadata": {
    "colab": {
      "name": "Data103 Distance.ipynb",
      "provenance": [],
      "authorship_tag": "ABX9TyPjCo6yb3ECbxYCdR4QOdvc",
      "include_colab_link": true
    },
    "kernelspec": {
      "name": "python3",
      "display_name": "Python 3"
    }
  },
  "cells": [
    {
      "cell_type": "markdown",
      "metadata": {
        "id": "view-in-github",
        "colab_type": "text"
      },
      "source": [
        "<a href=\"https://colab.research.google.com/github/sureeratsalangsing/kku_data_mining/blob/master/Data103_Distance.ipynb\" target=\"_parent\"><img src=\"https://colab.research.google.com/assets/colab-badge.svg\" alt=\"Open In Colab\"/></a>"
      ]
    },
    {
      "cell_type": "code",
      "metadata": {
        "id": "DYp8NfD3gxMu",
        "colab_type": "code",
        "colab": {}
      },
      "source": [
        "import numpy as np"
      ],
      "execution_count": 1,
      "outputs": []
    },
    {
      "cell_type": "markdown",
      "metadata": {
        "id": "V-j1m98lnXKO",
        "colab_type": "text"
      },
      "source": [
        "##numpy array"
      ]
    },
    {
      "cell_type": "code",
      "metadata": {
        "id": "KIaDmdVlnV5g",
        "colab_type": "code",
        "colab": {
          "base_uri": "https://localhost:8080/",
          "height": 51
        },
        "outputId": "31c30553-7732-4c6a-fc00-08cd61c16970"
      },
      "source": [
        "np1 = np.array([[1,3,5],[2,4,6]])\n",
        "np1"
      ],
      "execution_count": 2,
      "outputs": [
        {
          "output_type": "execute_result",
          "data": {
            "text/plain": [
              "array([[1, 3, 5],\n",
              "       [2, 4, 6]])"
            ]
          },
          "metadata": {
            "tags": []
          },
          "execution_count": 2
        }
      ]
    },
    {
      "cell_type": "code",
      "metadata": {
        "id": "TjtKhNs7ngJB",
        "colab_type": "code",
        "colab": {
          "base_uri": "https://localhost:8080/",
          "height": 85
        },
        "outputId": "2011e12c-848b-4c8f-f533-51e464266e21"
      },
      "source": [
        "np2 = np.array([[1,2],[3,5],[2,0],[4,5]])\n",
        "np2\n"
      ],
      "execution_count": 3,
      "outputs": [
        {
          "output_type": "execute_result",
          "data": {
            "text/plain": [
              "array([[1, 2],\n",
              "       [3, 5],\n",
              "       [2, 0],\n",
              "       [4, 5]])"
            ]
          },
          "metadata": {
            "tags": []
          },
          "execution_count": 3
        }
      ]
    },
    {
      "cell_type": "markdown",
      "metadata": {
        "id": "ILHKs6r4nnb6",
        "colab_type": "text"
      },
      "source": [
        "#กลับหลักเป็นแถว"
      ]
    },
    {
      "cell_type": "code",
      "metadata": {
        "id": "QqSqLZ8tnkUm",
        "colab_type": "code",
        "colab": {
          "base_uri": "https://localhost:8080/",
          "height": 51
        },
        "outputId": "30672009-8ce6-4d0b-8af7-78ef5ea3e95b"
      },
      "source": [
        "np2.T"
      ],
      "execution_count": 4,
      "outputs": [
        {
          "output_type": "execute_result",
          "data": {
            "text/plain": [
              "array([[1, 3, 2, 4],\n",
              "       [2, 5, 0, 5]])"
            ]
          },
          "metadata": {
            "tags": []
          },
          "execution_count": 4
        }
      ]
    },
    {
      "cell_type": "code",
      "metadata": {
        "id": "Iv8MQKfInrtt",
        "colab_type": "code",
        "colab": {
          "base_uri": "https://localhost:8080/",
          "height": 34
        },
        "outputId": "5c442d52-f1f1-4601-e56b-d00ba3e2e3fe"
      },
      "source": [
        "np2[0,:]"
      ],
      "execution_count": 5,
      "outputs": [
        {
          "output_type": "execute_result",
          "data": {
            "text/plain": [
              "array([1, 2])"
            ]
          },
          "metadata": {
            "tags": []
          },
          "execution_count": 5
        }
      ]
    },
    {
      "cell_type": "markdown",
      "metadata": {
        "id": "tAOGrEBFn3SR",
        "colab_type": "text"
      },
      "source": [
        "#HW6 สร้าง distance matrix (Euclidean) ของ np2\n",
        "โดยสร้าง function สำหรับคำนวณ Euclidean Distance\n",
        "def Euclidean(data1,data2):\n",
        " #process \n",
        " return dist"
      ]
    },
    {
      "cell_type": "code",
      "metadata": {
        "id": "g1XC1zngnuet",
        "colab_type": "code",
        "colab": {}
      },
      "source": [
        "def Euclidean(data1,data2):\n",
        "    distX = pow((data1[0]-data2[0]),2)\n",
        "    distY = pow((data1[1]-data2[1]),2)\n",
        "    return math.sqrt(distX+distY)"
      ],
      "execution_count": 6,
      "outputs": []
    },
    {
      "cell_type": "code",
      "metadata": {
        "id": "v8WseklVoLrR",
        "colab_type": "code",
        "colab": {
          "base_uri": "https://localhost:8080/",
          "height": 85
        },
        "outputId": "947efe9c-ed18-4c30-e95f-790d95ec772f"
      },
      "source": [
        "dist_math1 = np.zeros((4,4))\n",
        "dist_math1"
      ],
      "execution_count": 7,
      "outputs": [
        {
          "output_type": "execute_result",
          "data": {
            "text/plain": [
              "array([[0., 0., 0., 0.],\n",
              "       [0., 0., 0., 0.],\n",
              "       [0., 0., 0., 0.],\n",
              "       [0., 0., 0., 0.]])"
            ]
          },
          "metadata": {
            "tags": []
          },
          "execution_count": 7
        }
      ]
    },
    {
      "cell_type": "code",
      "metadata": {
        "id": "6BpWMTU3oOpQ",
        "colab_type": "code",
        "colab": {
          "base_uri": "https://localhost:8080/",
          "height": 85
        },
        "outputId": "776dd5b2-f4b6-4b85-a566-d7fe029a559f"
      },
      "source": [
        "for i in range(4):\n",
        "    for j in range(4):\n",
        "        dist_math1[i,j] = Euclidean(np2[i,:],np2[j,:])\n",
        "dist_math1"
      ],
      "execution_count": 11,
      "outputs": [
        {
          "output_type": "execute_result",
          "data": {
            "text/plain": [
              "array([[0.        , 3.60555128, 2.23606798, 4.24264069],\n",
              "       [3.60555128, 0.        , 5.09901951, 1.        ],\n",
              "       [2.23606798, 5.09901951, 0.        , 5.38516481],\n",
              "       [4.24264069, 1.        , 5.38516481, 0.        ]])"
            ]
          },
          "metadata": {
            "tags": []
          },
          "execution_count": 11
        }
      ]
    },
    {
      "cell_type": "code",
      "metadata": {
        "id": "74feL5ywoSkT",
        "colab_type": "code",
        "colab": {}
      },
      "source": [
        "import math"
      ],
      "execution_count": 10,
      "outputs": []
    },
    {
      "cell_type": "code",
      "metadata": {
        "id": "29CKttnyqB3W",
        "colab_type": "code",
        "colab": {}
      },
      "source": [
        "def Manhattan(data1,data2):\n",
        "  distX = data1[0]-data2[0]\n",
        "  return distX"
      ],
      "execution_count": 12,
      "outputs": []
    },
    {
      "cell_type": "code",
      "metadata": {
        "id": "-48OATBrqJwW",
        "colab_type": "code",
        "colab": {
          "base_uri": "https://localhost:8080/",
          "height": 34
        },
        "outputId": "436e9099-b515-4a4c-f0c6-2c007981f9a4"
      },
      "source": [
        "Manhattan(np2[0,:],np2[1,:])"
      ],
      "execution_count": 13,
      "outputs": [
        {
          "output_type": "execute_result",
          "data": {
            "text/plain": [
              "-2"
            ]
          },
          "metadata": {
            "tags": []
          },
          "execution_count": 13
        }
      ]
    },
    {
      "cell_type": "code",
      "metadata": {
        "id": "DLlvSNbOqM0N",
        "colab_type": "code",
        "colab": {}
      },
      "source": [
        "import math"
      ],
      "execution_count": 14,
      "outputs": []
    },
    {
      "cell_type": "code",
      "metadata": {
        "id": "atL8G_SpqPSj",
        "colab_type": "code",
        "colab": {}
      },
      "source": [
        "def Manhattan(data1,data2):\n",
        "  distX = abs(data1[0]-data2[0])\n",
        "  return distX"
      ],
      "execution_count": 15,
      "outputs": []
    },
    {
      "cell_type": "code",
      "metadata": {
        "id": "k_d98qaPqSHu",
        "colab_type": "code",
        "colab": {
          "base_uri": "https://localhost:8080/",
          "height": 34
        },
        "outputId": "9df112a8-2055-4d9b-ed93-a768b12f30b3"
      },
      "source": [
        "Manhattan(np2[0,:],np2[1,:])"
      ],
      "execution_count": 16,
      "outputs": [
        {
          "output_type": "execute_result",
          "data": {
            "text/plain": [
              "2"
            ]
          },
          "metadata": {
            "tags": []
          },
          "execution_count": 16
        }
      ]
    },
    {
      "cell_type": "code",
      "metadata": {
        "id": "XYGX7DyvqUxd",
        "colab_type": "code",
        "colab": {}
      },
      "source": [
        "def Manhattan(data1,data2):\n",
        "  distX = abs(data1[0]-data2[0])\n",
        "  distY = abs(data1[1]-data2[1])\n",
        "  return distX+distY"
      ],
      "execution_count": 17,
      "outputs": []
    },
    {
      "cell_type": "code",
      "metadata": {
        "id": "Z_rjcIylqYNX",
        "colab_type": "code",
        "colab": {
          "base_uri": "https://localhost:8080/",
          "height": 34
        },
        "outputId": "fe0763a5-aea4-41c9-db3f-a5d82204f6cd"
      },
      "source": [
        "Manhattan(np2[0,:],np2[1,:])"
      ],
      "execution_count": 18,
      "outputs": [
        {
          "output_type": "execute_result",
          "data": {
            "text/plain": [
              "5"
            ]
          },
          "metadata": {
            "tags": []
          },
          "execution_count": 18
        }
      ]
    },
    {
      "cell_type": "code",
      "metadata": {
        "id": "RtFSOOpoqbXm",
        "colab_type": "code",
        "colab": {
          "base_uri": "https://localhost:8080/",
          "height": 85
        },
        "outputId": "32ddb11f-e44d-4f35-c1bc-3e01dd64bc8e"
      },
      "source": [
        "#ตัวอย่าง\n",
        "np.ones((4,4))"
      ],
      "execution_count": 19,
      "outputs": [
        {
          "output_type": "execute_result",
          "data": {
            "text/plain": [
              "array([[1., 1., 1., 1.],\n",
              "       [1., 1., 1., 1.],\n",
              "       [1., 1., 1., 1.],\n",
              "       [1., 1., 1., 1.]])"
            ]
          },
          "metadata": {
            "tags": []
          },
          "execution_count": 19
        }
      ]
    },
    {
      "cell_type": "code",
      "metadata": {
        "id": "J24kk874qfKb",
        "colab_type": "code",
        "colab": {
          "base_uri": "https://localhost:8080/",
          "height": 85
        },
        "outputId": "b597af3d-9a28-4421-9d4b-8505fd1b9c95"
      },
      "source": [
        "#ตัวอย่าง\n",
        "5*np.ones((4,4))"
      ],
      "execution_count": 20,
      "outputs": [
        {
          "output_type": "execute_result",
          "data": {
            "text/plain": [
              "array([[5., 5., 5., 5.],\n",
              "       [5., 5., 5., 5.],\n",
              "       [5., 5., 5., 5.],\n",
              "       [5., 5., 5., 5.]])"
            ]
          },
          "metadata": {
            "tags": []
          },
          "execution_count": 20
        }
      ]
    },
    {
      "cell_type": "code",
      "metadata": {
        "id": "asJHp9Cnqh_B",
        "colab_type": "code",
        "colab": {
          "base_uri": "https://localhost:8080/",
          "height": 85
        },
        "outputId": "956f7d60-44ae-4675-af8f-7cf5cfa9e489"
      },
      "source": [
        "#ข้อสอบ\n",
        "dist_mat = np.zeros((4,4))\n",
        "dist_mat"
      ],
      "execution_count": 21,
      "outputs": [
        {
          "output_type": "execute_result",
          "data": {
            "text/plain": [
              "array([[0., 0., 0., 0.],\n",
              "       [0., 0., 0., 0.],\n",
              "       [0., 0., 0., 0.],\n",
              "       [0., 0., 0., 0.]])"
            ]
          },
          "metadata": {
            "tags": []
          },
          "execution_count": 21
        }
      ]
    },
    {
      "cell_type": "code",
      "metadata": {
        "id": "Zotam-9bqmBZ",
        "colab_type": "code",
        "colab": {
          "base_uri": "https://localhost:8080/",
          "height": 85
        },
        "outputId": "e8bcbe9c-9fba-47e3-a254-4642c3e9f7ce"
      },
      "source": [
        "for i in range(4):\n",
        "  for j in range(4):\n",
        "    dist_mat[i,j] = Manhattan(np2[i,:],np2[j,:])\n",
        "dist_mat"
      ],
      "execution_count": 22,
      "outputs": [
        {
          "output_type": "execute_result",
          "data": {
            "text/plain": [
              "array([[0., 5., 3., 6.],\n",
              "       [5., 0., 6., 1.],\n",
              "       [3., 6., 0., 7.],\n",
              "       [6., 1., 7., 0.]])"
            ]
          },
          "metadata": {
            "tags": []
          },
          "execution_count": 22
        }
      ]
    },
    {
      "cell_type": "code",
      "metadata": {
        "id": "JXJb2bYIqoqc",
        "colab_type": "code",
        "colab": {
          "base_uri": "https://localhost:8080/",
          "height": 34
        },
        "outputId": "4de4d5da-7526-4f36-f4e9-0a8d6035ea55"
      },
      "source": [
        "np2.shape\n"
      ],
      "execution_count": 25,
      "outputs": [
        {
          "output_type": "execute_result",
          "data": {
            "text/plain": [
              "(4, 2)"
            ]
          },
          "metadata": {
            "tags": []
          },
          "execution_count": 25
        }
      ]
    },
    {
      "cell_type": "markdown",
      "metadata": {
        "id": "VOpByKA6r0vh",
        "colab_type": "text"
      },
      "source": [
        "##Distance of nominal or categorical features\n"
      ]
    },
    {
      "cell_type": "markdown",
      "metadata": {
        "id": "EhNILP2Fr5E1",
        "colab_type": "text"
      },
      "source": [
        "#(extra) Python data structure (Dictionary)"
      ]
    },
    {
      "cell_type": "code",
      "metadata": {
        "id": "dOBPQlmPr0as",
        "colab_type": "code",
        "colab": {}
      },
      "source": [
        "d_A = {'a':1,2:3,3:5,'cat':6}"
      ],
      "execution_count": 26,
      "outputs": []
    },
    {
      "cell_type": "code",
      "metadata": {
        "id": "4G1MM_Dmr8Yf",
        "colab_type": "code",
        "colab": {
          "base_uri": "https://localhost:8080/",
          "height": 34
        },
        "outputId": "e42f088a-883e-4d45-fc0a-8016714f6719"
      },
      "source": [
        "d_A"
      ],
      "execution_count": 27,
      "outputs": [
        {
          "output_type": "execute_result",
          "data": {
            "text/plain": [
              "{2: 3, 3: 5, 'a': 1, 'cat': 6}"
            ]
          },
          "metadata": {
            "tags": []
          },
          "execution_count": 27
        }
      ]
    },
    {
      "cell_type": "code",
      "metadata": {
        "id": "FxjNIYp7sAKT",
        "colab_type": "code",
        "colab": {
          "base_uri": "https://localhost:8080/",
          "height": 34
        },
        "outputId": "ea63d911-0a77-4bb8-c54d-c32f466c82c1"
      },
      "source": [
        "d_A['cat']"
      ],
      "execution_count": 32,
      "outputs": [
        {
          "output_type": "execute_result",
          "data": {
            "text/plain": [
              "6"
            ]
          },
          "metadata": {
            "tags": []
          },
          "execution_count": 32
        }
      ]
    },
    {
      "cell_type": "code",
      "metadata": {
        "id": "cedFGCh6sCnj",
        "colab_type": "code",
        "colab": {}
      },
      "source": [
        "d_A['dog'] = [1,2,3,4,5]"
      ],
      "execution_count": 29,
      "outputs": []
    },
    {
      "cell_type": "code",
      "metadata": {
        "id": "X58kLwYIsGt_",
        "colab_type": "code",
        "colab": {
          "base_uri": "https://localhost:8080/",
          "height": 34
        },
        "outputId": "c095425b-008a-49fe-f9de-08784d61ea0d"
      },
      "source": [
        "d_A"
      ],
      "execution_count": 33,
      "outputs": [
        {
          "output_type": "execute_result",
          "data": {
            "text/plain": [
              "{2: 3, 3: 5, 'a': 1, 'cat': 6, 'dog': [1, 2, 3, 4, 5]}"
            ]
          },
          "metadata": {
            "tags": []
          },
          "execution_count": 33
        }
      ]
    },
    {
      "cell_type": "code",
      "metadata": {
        "id": "a9jDwPY7sZUH",
        "colab_type": "code",
        "colab": {}
      },
      "source": [
        "del d_A[2]"
      ],
      "execution_count": 34,
      "outputs": []
    },
    {
      "cell_type": "code",
      "metadata": {
        "id": "EzWPyxKYscXc",
        "colab_type": "code",
        "colab": {
          "base_uri": "https://localhost:8080/",
          "height": 34
        },
        "outputId": "9293f388-29c7-4236-da20-8270fcb164ef"
      },
      "source": [
        "d_A"
      ],
      "execution_count": 35,
      "outputs": [
        {
          "output_type": "execute_result",
          "data": {
            "text/plain": [
              "{3: 5, 'a': 1, 'cat': 6, 'dog': [1, 2, 3, 4, 5]}"
            ]
          },
          "metadata": {
            "tags": []
          },
          "execution_count": 35
        }
      ]
    },
    {
      "cell_type": "code",
      "metadata": {
        "id": "1Yo7DBbmsfVS",
        "colab_type": "code",
        "colab": {}
      },
      "source": [
        "import pandas as pd"
      ],
      "execution_count": 36,
      "outputs": []
    },
    {
      "cell_type": "code",
      "metadata": {
        "id": "5Smg_NKfsj2z",
        "colab_type": "code",
        "colab": {
          "base_uri": "https://localhost:8080/",
          "height": 34
        },
        "outputId": "2bbdd812-3f71-43b4-b805-9d8c33fc005f"
      },
      "source": [
        "data_dict = {'color':['red','red','green'],  #color = {'red','green','blue'}\n",
        "             'status':['single','married','single']}  #status = {'single','married','divored'}\n",
        "data_dict"
      ],
      "execution_count": 40,
      "outputs": [
        {
          "output_type": "execute_result",
          "data": {
            "text/plain": [
              "{'color': ['red', 'red', 'green'], 'status': ['single', 'married', 'single']}"
            ]
          },
          "metadata": {
            "tags": []
          },
          "execution_count": 40
        }
      ]
    },
    {
      "cell_type": "code",
      "metadata": {
        "id": "h8EfrBpMstmg",
        "colab_type": "code",
        "colab": {
          "base_uri": "https://localhost:8080/",
          "height": 142
        },
        "outputId": "90f00295-72ab-4a20-a01d-3d40665256f6"
      },
      "source": [
        "data_pd = pd.DataFrame.from_dict(data_dict)\n",
        "data_pd"
      ],
      "execution_count": 41,
      "outputs": [
        {
          "output_type": "execute_result",
          "data": {
            "text/html": [
              "<div>\n",
              "<style scoped>\n",
              "    .dataframe tbody tr th:only-of-type {\n",
              "        vertical-align: middle;\n",
              "    }\n",
              "\n",
              "    .dataframe tbody tr th {\n",
              "        vertical-align: top;\n",
              "    }\n",
              "\n",
              "    .dataframe thead th {\n",
              "        text-align: right;\n",
              "    }\n",
              "</style>\n",
              "<table border=\"1\" class=\"dataframe\">\n",
              "  <thead>\n",
              "    <tr style=\"text-align: right;\">\n",
              "      <th></th>\n",
              "      <th>color</th>\n",
              "      <th>status</th>\n",
              "    </tr>\n",
              "  </thead>\n",
              "  <tbody>\n",
              "    <tr>\n",
              "      <th>0</th>\n",
              "      <td>red</td>\n",
              "      <td>single</td>\n",
              "    </tr>\n",
              "    <tr>\n",
              "      <th>1</th>\n",
              "      <td>red</td>\n",
              "      <td>married</td>\n",
              "    </tr>\n",
              "    <tr>\n",
              "      <th>2</th>\n",
              "      <td>green</td>\n",
              "      <td>single</td>\n",
              "    </tr>\n",
              "  </tbody>\n",
              "</table>\n",
              "</div>"
            ],
            "text/plain": [
              "   color   status\n",
              "0    red   single\n",
              "1    red  married\n",
              "2  green   single"
            ]
          },
          "metadata": {
            "tags": []
          },
          "execution_count": 41
        }
      ]
    },
    {
      "cell_type": "markdown",
      "metadata": {
        "id": "QE9gChmJtMl2",
        "colab_type": "text"
      },
      "source": [
        "##Categorical feature distance method#1"
      ]
    },
    {
      "cell_type": "markdown",
      "metadata": {
        "id": "ypSn2rUAuaeH",
        "colab_type": "text"
      },
      "source": [
        "ตารางบน"
      ]
    },
    {
      "cell_type": "code",
      "metadata": {
        "id": "qH32zpm1s0bx",
        "colab_type": "code",
        "colab": {
          "base_uri": "https://localhost:8080/",
          "height": 34
        },
        "outputId": "d7ee92c8-f3b3-4e99-adbf-53d54e1fb6f8"
      },
      "source": [
        "list(data_pd.iloc[0,:])"
      ],
      "execution_count": 42,
      "outputs": [
        {
          "output_type": "execute_result",
          "data": {
            "text/plain": [
              "['red', 'single']"
            ]
          },
          "metadata": {
            "tags": []
          },
          "execution_count": 42
        }
      ]
    },
    {
      "cell_type": "code",
      "metadata": {
        "id": "Amyp5sGjukCK",
        "colab_type": "code",
        "colab": {}
      },
      "source": [
        "def meth1_dist(data1,data2):\n",
        "  N = 0\n",
        "  print(f'data1 is {data1} and data2 is {data2}')\n",
        "  for i in range(len(data1)):\n",
        "    print(f'feature1 of data1 is {data1[i]} , feature2 is {data2[i]} ')\n",
        "    if data1[i] != data2[i]:\n",
        "      N = N+1\n",
        "      print(f'  {data1[i]} is not equal {data2[i]} : updated ({N})')\n",
        "    else:\n",
        "      print(f'  {data1[i]} is equal {data2[i]}')\n",
        "  return N/len(data1)"
      ],
      "execution_count": 43,
      "outputs": []
    },
    {
      "cell_type": "code",
      "metadata": {
        "id": "50o_6Wv7uoPD",
        "colab_type": "code",
        "colab": {
          "base_uri": "https://localhost:8080/",
          "height": 119
        },
        "outputId": "868af1f3-cd14-4deb-f64d-6437cd213b44"
      },
      "source": [
        "meth1_dist(list(data_pd.iloc[0,:]),list(data_pd.iloc[1,:]))"
      ],
      "execution_count": 44,
      "outputs": [
        {
          "output_type": "stream",
          "text": [
            "data1 is ['red', 'single'] and data2 is ['red', 'married']\n",
            "feature1 of data1 is red , feature2 is red \n",
            "  red is equal red\n",
            "feature1 of data1 is single , feature2 is married \n",
            "  single is not equal married : updated (1)\n"
          ],
          "name": "stdout"
        },
        {
          "output_type": "execute_result",
          "data": {
            "text/plain": [
              "0.5"
            ]
          },
          "metadata": {
            "tags": []
          },
          "execution_count": 44
        }
      ]
    },
    {
      "cell_type": "markdown",
      "metadata": {
        "id": "q1iYAuriuvBy",
        "colab_type": "text"
      },
      "source": [
        "#HW7 calculate distance matrix of data_pd using meth1_dist()"
      ]
    },
    {
      "cell_type": "markdown",
      "metadata": {
        "id": "d1y8pPSPuzvs",
        "colab_type": "text"
      },
      "source": [
        "#Categorical feature distance method#2"
      ]
    },
    {
      "cell_type": "code",
      "metadata": {
        "id": "yK8SKG2Huru5",
        "colab_type": "code",
        "colab": {
          "base_uri": "https://localhost:8080/",
          "height": 142
        },
        "outputId": "5bc49ef6-118f-49ac-8f19-7946625c4449"
      },
      "source": [
        "data_pd_binary = pd.get_dummies(data_pd)\n",
        "data_pd_binary"
      ],
      "execution_count": 45,
      "outputs": [
        {
          "output_type": "execute_result",
          "data": {
            "text/html": [
              "<div>\n",
              "<style scoped>\n",
              "    .dataframe tbody tr th:only-of-type {\n",
              "        vertical-align: middle;\n",
              "    }\n",
              "\n",
              "    .dataframe tbody tr th {\n",
              "        vertical-align: top;\n",
              "    }\n",
              "\n",
              "    .dataframe thead th {\n",
              "        text-align: right;\n",
              "    }\n",
              "</style>\n",
              "<table border=\"1\" class=\"dataframe\">\n",
              "  <thead>\n",
              "    <tr style=\"text-align: right;\">\n",
              "      <th></th>\n",
              "      <th>color_green</th>\n",
              "      <th>color_red</th>\n",
              "      <th>status_married</th>\n",
              "      <th>status_single</th>\n",
              "    </tr>\n",
              "  </thead>\n",
              "  <tbody>\n",
              "    <tr>\n",
              "      <th>0</th>\n",
              "      <td>0</td>\n",
              "      <td>1</td>\n",
              "      <td>0</td>\n",
              "      <td>1</td>\n",
              "    </tr>\n",
              "    <tr>\n",
              "      <th>1</th>\n",
              "      <td>0</td>\n",
              "      <td>1</td>\n",
              "      <td>1</td>\n",
              "      <td>0</td>\n",
              "    </tr>\n",
              "    <tr>\n",
              "      <th>2</th>\n",
              "      <td>1</td>\n",
              "      <td>0</td>\n",
              "      <td>0</td>\n",
              "      <td>1</td>\n",
              "    </tr>\n",
              "  </tbody>\n",
              "</table>\n",
              "</div>"
            ],
            "text/plain": [
              "   color_green  color_red  status_married  status_single\n",
              "0            0          1               0              1\n",
              "1            0          1               1              0\n",
              "2            1          0               0              1"
            ]
          },
          "metadata": {
            "tags": []
          },
          "execution_count": 45
        }
      ]
    },
    {
      "cell_type": "code",
      "metadata": {
        "id": "dlWUDxcZu6xQ",
        "colab_type": "code",
        "colab": {}
      },
      "source": [
        "def binary_sym_dist(data1,data2):\n",
        "  q = 0 \n",
        "  rs = 0\n",
        "  t = 0\n",
        "  for i in range(len(data1)):\n",
        "    if data1[i] == data2[i]:\n",
        "      if data1[i] == 1:\n",
        "       q = q + 1\n",
        "      else:\n",
        "        t = t + 1\n",
        "    if data1[i] != data2[i]:\n",
        "      rs = rs + 1\n",
        "  return (rs)/(q+rs+t)"
      ],
      "execution_count": 46,
      "outputs": []
    },
    {
      "cell_type": "code",
      "metadata": {
        "id": "_RjlAxqyu-mU",
        "colab_type": "code",
        "colab": {
          "base_uri": "https://localhost:8080/",
          "height": 34
        },
        "outputId": "b526bf9d-6b54-4f1d-e4a6-fb491a27bafb"
      },
      "source": [
        "binary_sym_dist(list(data_pd.iloc[0,:]),list(data_pd.iloc[1,:]))"
      ],
      "execution_count": 47,
      "outputs": [
        {
          "output_type": "execute_result",
          "data": {
            "text/plain": [
              "0.5"
            ]
          },
          "metadata": {
            "tags": []
          },
          "execution_count": 47
        }
      ]
    },
    {
      "cell_type": "code",
      "metadata": {
        "id": "EgSke8wIvC6R",
        "colab_type": "code",
        "colab": {
          "base_uri": "https://localhost:8080/",
          "height": 68
        },
        "outputId": "eaa96378-a504-4807-d9a4-274d29df25f8"
      },
      "source": [
        "dist_math2 = np.zeros((3,3))\n",
        "dist_math2"
      ],
      "execution_count": 48,
      "outputs": [
        {
          "output_type": "execute_result",
          "data": {
            "text/plain": [
              "array([[0., 0., 0.],\n",
              "       [0., 0., 0.],\n",
              "       [0., 0., 0.]])"
            ]
          },
          "metadata": {
            "tags": []
          },
          "execution_count": 48
        }
      ]
    },
    {
      "cell_type": "code",
      "metadata": {
        "id": "Fl7Rw1GPvFdY",
        "colab_type": "code",
        "colab": {
          "base_uri": "https://localhost:8080/",
          "height": 833
        },
        "outputId": "450e2b55-d881-4350-841a-bdb38a2656f2"
      },
      "source": [
        "for i in range(3):\n",
        "    for j in range(3):\n",
        "        dist_math2[i,j] = meth1_dist(list(data_pd.iloc[i,:]),list(data_pd.iloc[j,:]))\n",
        "dist_math2"
      ],
      "execution_count": 49,
      "outputs": [
        {
          "output_type": "stream",
          "text": [
            "data1 is ['red', 'single'] and data2 is ['red', 'single']\n",
            "feature1 of data1 is red , feature2 is red \n",
            "  red is equal red\n",
            "feature1 of data1 is single , feature2 is single \n",
            "  single is equal single\n",
            "data1 is ['red', 'single'] and data2 is ['red', 'married']\n",
            "feature1 of data1 is red , feature2 is red \n",
            "  red is equal red\n",
            "feature1 of data1 is single , feature2 is married \n",
            "  single is not equal married : updated (1)\n",
            "data1 is ['red', 'single'] and data2 is ['green', 'single']\n",
            "feature1 of data1 is red , feature2 is green \n",
            "  red is not equal green : updated (1)\n",
            "feature1 of data1 is single , feature2 is single \n",
            "  single is equal single\n",
            "data1 is ['red', 'married'] and data2 is ['red', 'single']\n",
            "feature1 of data1 is red , feature2 is red \n",
            "  red is equal red\n",
            "feature1 of data1 is married , feature2 is single \n",
            "  married is not equal single : updated (1)\n",
            "data1 is ['red', 'married'] and data2 is ['red', 'married']\n",
            "feature1 of data1 is red , feature2 is red \n",
            "  red is equal red\n",
            "feature1 of data1 is married , feature2 is married \n",
            "  married is equal married\n",
            "data1 is ['red', 'married'] and data2 is ['green', 'single']\n",
            "feature1 of data1 is red , feature2 is green \n",
            "  red is not equal green : updated (1)\n",
            "feature1 of data1 is married , feature2 is single \n",
            "  married is not equal single : updated (2)\n",
            "data1 is ['green', 'single'] and data2 is ['red', 'single']\n",
            "feature1 of data1 is green , feature2 is red \n",
            "  green is not equal red : updated (1)\n",
            "feature1 of data1 is single , feature2 is single \n",
            "  single is equal single\n",
            "data1 is ['green', 'single'] and data2 is ['red', 'married']\n",
            "feature1 of data1 is green , feature2 is red \n",
            "  green is not equal red : updated (1)\n",
            "feature1 of data1 is single , feature2 is married \n",
            "  single is not equal married : updated (2)\n",
            "data1 is ['green', 'single'] and data2 is ['green', 'single']\n",
            "feature1 of data1 is green , feature2 is green \n",
            "  green is equal green\n",
            "feature1 of data1 is single , feature2 is single \n",
            "  single is equal single\n"
          ],
          "name": "stdout"
        },
        {
          "output_type": "execute_result",
          "data": {
            "text/plain": [
              "array([[0. , 0.5, 0.5],\n",
              "       [0.5, 0. , 1. ],\n",
              "       [0.5, 1. , 0. ]])"
            ]
          },
          "metadata": {
            "tags": []
          },
          "execution_count": 49
        }
      ]
    },
    {
      "cell_type": "markdown",
      "metadata": {
        "id": "RY81LFqNvMiJ",
        "colab_type": "text"
      },
      "source": [
        "#HW8 calculate distance matrix of data_pd_binary using binary_sym_dist()"
      ]
    },
    {
      "cell_type": "code",
      "metadata": {
        "id": "44jHItcUvH5Y",
        "colab_type": "code",
        "colab": {
          "base_uri": "https://localhost:8080/",
          "height": 833
        },
        "outputId": "7f1496f4-9922-43ef-8b8f-a34329c8e8f7"
      },
      "source": [
        "for i in range(3):\n",
        "    for j in range(3):\n",
        "        dist_math2[i,j] = meth1_dist(list(data_pd.iloc[i,:]),list(data_pd.iloc[j,:]))\n",
        "dist_math2"
      ],
      "execution_count": 50,
      "outputs": [
        {
          "output_type": "stream",
          "text": [
            "data1 is ['red', 'single'] and data2 is ['red', 'single']\n",
            "feature1 of data1 is red , feature2 is red \n",
            "  red is equal red\n",
            "feature1 of data1 is single , feature2 is single \n",
            "  single is equal single\n",
            "data1 is ['red', 'single'] and data2 is ['red', 'married']\n",
            "feature1 of data1 is red , feature2 is red \n",
            "  red is equal red\n",
            "feature1 of data1 is single , feature2 is married \n",
            "  single is not equal married : updated (1)\n",
            "data1 is ['red', 'single'] and data2 is ['green', 'single']\n",
            "feature1 of data1 is red , feature2 is green \n",
            "  red is not equal green : updated (1)\n",
            "feature1 of data1 is single , feature2 is single \n",
            "  single is equal single\n",
            "data1 is ['red', 'married'] and data2 is ['red', 'single']\n",
            "feature1 of data1 is red , feature2 is red \n",
            "  red is equal red\n",
            "feature1 of data1 is married , feature2 is single \n",
            "  married is not equal single : updated (1)\n",
            "data1 is ['red', 'married'] and data2 is ['red', 'married']\n",
            "feature1 of data1 is red , feature2 is red \n",
            "  red is equal red\n",
            "feature1 of data1 is married , feature2 is married \n",
            "  married is equal married\n",
            "data1 is ['red', 'married'] and data2 is ['green', 'single']\n",
            "feature1 of data1 is red , feature2 is green \n",
            "  red is not equal green : updated (1)\n",
            "feature1 of data1 is married , feature2 is single \n",
            "  married is not equal single : updated (2)\n",
            "data1 is ['green', 'single'] and data2 is ['red', 'single']\n",
            "feature1 of data1 is green , feature2 is red \n",
            "  green is not equal red : updated (1)\n",
            "feature1 of data1 is single , feature2 is single \n",
            "  single is equal single\n",
            "data1 is ['green', 'single'] and data2 is ['red', 'married']\n",
            "feature1 of data1 is green , feature2 is red \n",
            "  green is not equal red : updated (1)\n",
            "feature1 of data1 is single , feature2 is married \n",
            "  single is not equal married : updated (2)\n",
            "data1 is ['green', 'single'] and data2 is ['green', 'single']\n",
            "feature1 of data1 is green , feature2 is green \n",
            "  green is equal green\n",
            "feature1 of data1 is single , feature2 is single \n",
            "  single is equal single\n"
          ],
          "name": "stdout"
        },
        {
          "output_type": "execute_result",
          "data": {
            "text/plain": [
              "array([[0. , 0.5, 0.5],\n",
              "       [0.5, 0. , 1. ],\n",
              "       [0.5, 1. , 0. ]])"
            ]
          },
          "metadata": {
            "tags": []
          },
          "execution_count": 50
        }
      ]
    },
    {
      "cell_type": "code",
      "metadata": {
        "id": "Q4uhGGAivSVF",
        "colab_type": "code",
        "colab": {
          "base_uri": "https://localhost:8080/",
          "height": 68
        },
        "outputId": "7399c194-8618-4363-8cbd-6ccfe3308cd5"
      },
      "source": [
        "binary_sym_dist1 = np.zeros((3,3))\n",
        "binary_sym_dist1\n",
        "for i in range(3):\n",
        "    for j in range(3):\n",
        "        binary_sym_dist1[i,j] = binary_sym_dist(list(data_pd_binary.iloc[i,:]),list(data_pd_binary.iloc[j,:]))\n",
        "binary_sym_dist1"
      ],
      "execution_count": 51,
      "outputs": [
        {
          "output_type": "execute_result",
          "data": {
            "text/plain": [
              "array([[0. , 0.5, 0.5],\n",
              "       [0.5, 0. , 1. ],\n",
              "       [0.5, 1. , 0. ]])"
            ]
          },
          "metadata": {
            "tags": []
          },
          "execution_count": 51
        }
      ]
    },
    {
      "cell_type": "code",
      "metadata": {
        "id": "Z8uSkZYavVZo",
        "colab_type": "code",
        "colab": {}
      },
      "source": [
        ""
      ],
      "execution_count": null,
      "outputs": []
    }
  ]
}