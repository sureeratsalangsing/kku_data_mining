{
  "nbformat": 4,
  "nbformat_minor": 0,
  "metadata": {
    "colab": {
      "name": "Copy of Untitled2.ipynb",
      "provenance": [],
      "include_colab_link": true
    },
    "kernelspec": {
      "name": "python3",
      "display_name": "Python 3"
    }
  },
  "cells": [
    {
      "cell_type": "markdown",
      "metadata": {
        "id": "view-in-github",
        "colab_type": "text"
      },
      "source": [
        "<a href=\"https://colab.research.google.com/github/sureeratsalangsing/kku_data_mining/blob/master/chapter1.ipynb\" target=\"_parent\"><img src=\"https://colab.research.google.com/assets/colab-badge.svg\" alt=\"Open In Colab\"/></a>"
      ]
    },
    {
      "cell_type": "markdown",
      "metadata": {
        "id": "SNqKK-8xaURe",
        "colab_type": "text"
      },
      "source": [
        "#สรุปย่อบทที่ 1"
      ]
    },
    {
      "cell_type": "markdown",
      "metadata": {
        "id": "UXOJUMf7aWVd",
        "colab_type": "text"
      },
      "source": [
        "บทที่ 1 introduction\n",
        "ทำไม Data Mining ถึงสำคัญ เพราะข้อมูลมีมากขึ้น อันเนื่องมาจากการใช้งานข้อคนในสังคมและความเปลี่ยนแปลงทางด้านเทคโนโลยี แต่ไม่สามารถนำข้อมูลนั้นไปจัดการได้จึงต้องนำ Data Miningเข้ามาใช้\n",
        "\n",
        "-data base มีหน้าที่เก็บข้อมูล(ล่างสุด)\n",
        "\n",
        "-data cleaning การทำความสะอาดข้อมูล หาข้อมูลที่ผิดพลาด เช่น การกรอกข้อมูลที่ผิดช่อง การข้อมูลไม่ตรงคอลลัมม์ / data integration คือ การรวมข้อมูล\n",
        "\n",
        "-data warehouse คือโกดังเก็บข้อมูลเพื่อนำไปทำการวิเคาระห์ทางธุรกิจ สามารถเลือกดูข้อมูลในมุมต่างๆได้ -data mining สกัดความรู้จากข้อมูลว่าข้อมูลนั้นๆมีสิ่งสำคัญอะไรซ่อนอยู่ตามแต่ผู้ต้องการข้อมูลว่าอยากได้ข้อมูลลักษณะแบบใด\n",
        "\n",
        "-data mining สกัดความรู้จากข้อมูลว่าข้อมูลนั้นๆมีสิ่งสำคัญอะไรซ่อนอยู่ตามแต่ผู้ต้องการข้อมูลว่าอยากได้ข้อมูลลักษณะแบบใด\n",
        "\n",
        "-การสร้างdata warehouse ต้อง clean,intregrate,transform,load and refrech\n",
        "\n",
        "-presentation of mining results (การนำเสนอผลลัพธ์ที่สกัดออกมา) และนำข้อมูลมาสร้างเป็น Knowledge base\n",
        "\n",
        "\n",
        "\n",
        "\n"
      ]
    }
  ]
}